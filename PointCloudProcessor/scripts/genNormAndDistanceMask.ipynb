{
 "cells": [
  {
   "cell_type": "code",
   "execution_count": null,
   "metadata": {},
   "outputs": [],
   "source": [
    "import open3d as o3d\n",
    "import cv2 as cv2\n",
    "\n",
    "\n",
    "def main(args):\n",
    "    read_data()\n",
    "\n",
    "    generate_norm_masks()\n",
    "\n",
    "    generate_distance_masks()\n",
    "\n",
    "    save_results()\n",
    "\n",
    "def read_data():\n",
    "    read_point_cloud()\n",
    "    read_mask_images()\n",
    "\n",
    "def generate_norm_masks()\n",
    "\n",
    "\n",
    "def generate_distance_masks()\n",
    "\n",
    "\n",
    "if __name__ == __main__():\n",
    "    main()\n",
    "\n",
    "\n",
    "\n"
   ]
  }
 ],
 "metadata": {
  "language_info": {
   "name": "python"
  }
 },
 "nbformat": 4,
 "nbformat_minor": 2
}
